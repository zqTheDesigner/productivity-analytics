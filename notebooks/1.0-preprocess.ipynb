{
 "cells": [
  {
   "cell_type": "code",
   "execution_count": 1,
   "metadata": {},
   "outputs": [],
   "source": [
    "import pandas as pd"
   ]
  },
  {
   "cell_type": "code",
   "execution_count": 2,
   "metadata": {},
   "outputs": [],
   "source": [
    "review_21 = pd.read_csv('../data/Daily-Review-2021.csv', index_col=['Day'], parse_dates=['Day'])\n",
    "review_23 = pd.read_csv('../data/Daily-Review - 2022-23.csv', index_col=['Date'], parse_dates=['Date'])"
   ]
  },
  {
   "cell_type": "code",
   "execution_count": 5,
   "metadata": {},
   "outputs": [
    {
     "data": {
      "text/plain": [
       "Index(['Weekday', '🌼 Good Habit Tracking', 'Effectiveness',\n",
       "       '📛 Bad Habit Tracking', 'Productivity', 'Morning Exercise',\n",
       "       'Evaluation After Each Task', 'Meditation', 'Reading', 'Code Practice',\n",
       "       'Night Exercise', 'Night Reflection', 'Personal Project',\n",
       "       'Wake Up Time', 'Sleep Time', 'Nap Hours', 'Total Sleep Hours',\n",
       "       'Browsing Social Media Times', 'Eating Quality (1 - poor, 5 - good)',\n",
       "       '💰 Money Spend', 'Good parts - achievement', 'Week', 'Date',\n",
       "       'Good Habit Tracking Calculation', 'Assumptions To Chellenge',\n",
       "       'Finished Todos (Fixed Number)', 'Habit', 'Today Todos',\n",
       "       'Bad parts - to Improve', 'Total Todos', 'Weight', 'Effectiveness Ref',\n",
       "       'Finished Todos Rollup (Changes over time)', 'Sleep Quality'],\n",
       "      dtype='object')"
      ]
     },
     "execution_count": 5,
     "metadata": {},
     "output_type": "execute_result"
    }
   ],
   "source": [
    "review_21.columns"
   ]
  },
  {
   "cell_type": "code",
   "execution_count": 6,
   "metadata": {},
   "outputs": [
    {
     "data": {
      "text/plain": [
       "Index(['Finished Todos (Actual)', 'Total Todos', 'Day Quality',\n",
       "       'Long Nap Hours', 'Did Not Exercise', 'Day Quality - Sleep Very Late',\n",
       "       'Day Quality - Sleep Late', 'Day Quality - Wake Up Very Late',\n",
       "       'Day Quality - Wake Up Late', 'Productivity', 'Productivity - Num',\n",
       "       'Weekday', 'Night Sleep Hours', 'Sleep Hours', 'Mood', 'Effectiveness',\n",
       "       'Exercised', 'Nap Hours', 'Sleep At', 'Things Learned', 'Wake At',\n",
       "       'Weight', 'Bad Decisions', 'Disappointments', 'Good Decisions',\n",
       "       'Sleep Quality', '[OLD] Bad Decisions Summary', 'Bad Decisions Made',\n",
       "       'Calories Intake', 'Check-Ins', 'Food', 'Mindset Sculpting',\n",
       "       'Money Spend', 'Process & Archievements', 'Summary'],\n",
       "      dtype='object')"
      ]
     },
     "execution_count": 6,
     "metadata": {},
     "output_type": "execute_result"
    }
   ],
   "source": [
    "review_23.columns"
   ]
  },
  {
   "cell_type": "code",
   "execution_count": 16,
   "metadata": {},
   "outputs": [],
   "source": [
    "sleep_21 = review_21['Total Sleep Hours']\n",
    "nap_21 = review_21['Nap Hours']\n",
    "\n",
    "night_sleep_21 =  sleep_21 - nap_21\n",
    "night_sleep_23 = review_23[['Night Sleep Hours']].rename(columns={'Night Sleep Hours':'night_sleep_hours'})"
   ]
  },
  {
   "cell_type": "code",
   "execution_count": 17,
   "metadata": {},
   "outputs": [],
   "source": [
    "night_sleep_21 = pd.DataFrame(night_sleep_21).rename(columns={0:'night_sleep_hours'})"
   ]
  },
  {
   "cell_type": "code",
   "execution_count": 18,
   "metadata": {},
   "outputs": [],
   "source": [
    "night_sleep_hours = pd.concat([night_sleep_21, night_sleep_23])\n"
   ]
  },
  {
   "cell_type": "code",
   "execution_count": 23,
   "metadata": {},
   "outputs": [],
   "source": [
    "sleep = pd.read_csv('../data/sleep.csv', index_col='date', parse_dates=['date'])"
   ]
  },
  {
   "cell_type": "code",
   "execution_count": 24,
   "metadata": {},
   "outputs": [
    {
     "data": {
      "text/html": [
       "<div>\n",
       "<style scoped>\n",
       "    .dataframe tbody tr th:only-of-type {\n",
       "        vertical-align: middle;\n",
       "    }\n",
       "\n",
       "    .dataframe tbody tr th {\n",
       "        vertical-align: top;\n",
       "    }\n",
       "\n",
       "    .dataframe thead th {\n",
       "        text-align: right;\n",
       "    }\n",
       "</style>\n",
       "<table border=\"1\" class=\"dataframe\">\n",
       "  <thead>\n",
       "    <tr style=\"text-align: right;\">\n",
       "      <th></th>\n",
       "      <th>total_sleep_hours</th>\n",
       "    </tr>\n",
       "    <tr>\n",
       "      <th>date</th>\n",
       "      <th></th>\n",
       "    </tr>\n",
       "  </thead>\n",
       "  <tbody>\n",
       "    <tr>\n",
       "      <th>2021-02-20</th>\n",
       "      <td>8.25</td>\n",
       "    </tr>\n",
       "    <tr>\n",
       "      <th>2021-02-21</th>\n",
       "      <td>8.00</td>\n",
       "    </tr>\n",
       "    <tr>\n",
       "      <th>2021-02-22</th>\n",
       "      <td>5.75</td>\n",
       "    </tr>\n",
       "    <tr>\n",
       "      <th>2021-02-23</th>\n",
       "      <td>6.10</td>\n",
       "    </tr>\n",
       "    <tr>\n",
       "      <th>2021-02-24</th>\n",
       "      <td>6.50</td>\n",
       "    </tr>\n",
       "    <tr>\n",
       "      <th>...</th>\n",
       "      <td>...</td>\n",
       "    </tr>\n",
       "    <tr>\n",
       "      <th>2023-05-29</th>\n",
       "      <td>4.00</td>\n",
       "    </tr>\n",
       "    <tr>\n",
       "      <th>2023-05-30</th>\n",
       "      <td>6.49</td>\n",
       "    </tr>\n",
       "    <tr>\n",
       "      <th>2023-05-31</th>\n",
       "      <td>5.24</td>\n",
       "    </tr>\n",
       "    <tr>\n",
       "      <th>2023-06-01</th>\n",
       "      <td>8.49</td>\n",
       "    </tr>\n",
       "    <tr>\n",
       "      <th>2023-06-02</th>\n",
       "      <td>3.99</td>\n",
       "    </tr>\n",
       "  </tbody>\n",
       "</table>\n",
       "<p>833 rows × 1 columns</p>\n",
       "</div>"
      ],
      "text/plain": [
       "            total_sleep_hours\n",
       "date                         \n",
       "2021-02-20               8.25\n",
       "2021-02-21               8.00\n",
       "2021-02-22               5.75\n",
       "2021-02-23               6.10\n",
       "2021-02-24               6.50\n",
       "...                       ...\n",
       "2023-05-29               4.00\n",
       "2023-05-30               6.49\n",
       "2023-05-31               5.24\n",
       "2023-06-01               8.49\n",
       "2023-06-02               3.99\n",
       "\n",
       "[833 rows x 1 columns]"
      ]
     },
     "execution_count": 24,
     "metadata": {},
     "output_type": "execute_result"
    }
   ],
   "source": [
    "sleep"
   ]
  },
  {
   "cell_type": "code",
   "execution_count": 29,
   "metadata": {},
   "outputs": [
    {
     "data": {
      "text/html": [
       "<div>\n",
       "<style scoped>\n",
       "    .dataframe tbody tr th:only-of-type {\n",
       "        vertical-align: middle;\n",
       "    }\n",
       "\n",
       "    .dataframe tbody tr th {\n",
       "        vertical-align: top;\n",
       "    }\n",
       "\n",
       "    .dataframe thead th {\n",
       "        text-align: right;\n",
       "    }\n",
       "</style>\n",
       "<table border=\"1\" class=\"dataframe\">\n",
       "  <thead>\n",
       "    <tr style=\"text-align: right;\">\n",
       "      <th></th>\n",
       "      <th>night_sleep_hours</th>\n",
       "    </tr>\n",
       "    <tr>\n",
       "      <th>date</th>\n",
       "      <th></th>\n",
       "    </tr>\n",
       "  </thead>\n",
       "  <tbody>\n",
       "    <tr>\n",
       "      <th>2021-10-02</th>\n",
       "      <td>0.00</td>\n",
       "    </tr>\n",
       "    <tr>\n",
       "      <th>2021-10-01</th>\n",
       "      <td>0.00</td>\n",
       "    </tr>\n",
       "    <tr>\n",
       "      <th>2021-09-30</th>\n",
       "      <td>6.00</td>\n",
       "    </tr>\n",
       "    <tr>\n",
       "      <th>2021-09-29</th>\n",
       "      <td>4.50</td>\n",
       "    </tr>\n",
       "    <tr>\n",
       "      <th>2021-09-28</th>\n",
       "      <td>5.50</td>\n",
       "    </tr>\n",
       "    <tr>\n",
       "      <th>...</th>\n",
       "      <td>...</td>\n",
       "    </tr>\n",
       "    <tr>\n",
       "      <th>2021-10-05</th>\n",
       "      <td>5.50</td>\n",
       "    </tr>\n",
       "    <tr>\n",
       "      <th>2021-10-04</th>\n",
       "      <td>3.50</td>\n",
       "    </tr>\n",
       "    <tr>\n",
       "      <th>2021-10-03</th>\n",
       "      <td>6.00</td>\n",
       "    </tr>\n",
       "    <tr>\n",
       "      <th>2021-10-02</th>\n",
       "      <td>5.25</td>\n",
       "    </tr>\n",
       "    <tr>\n",
       "      <th>2021-10-01</th>\n",
       "      <td>4.50</td>\n",
       "    </tr>\n",
       "  </tbody>\n",
       "</table>\n",
       "<p>830 rows × 1 columns</p>\n",
       "</div>"
      ],
      "text/plain": [
       "            night_sleep_hours\n",
       "date                         \n",
       "2021-10-02               0.00\n",
       "2021-10-01               0.00\n",
       "2021-09-30               6.00\n",
       "2021-09-29               4.50\n",
       "2021-09-28               5.50\n",
       "...                       ...\n",
       "2021-10-05               5.50\n",
       "2021-10-04               3.50\n",
       "2021-10-03               6.00\n",
       "2021-10-02               5.25\n",
       "2021-10-01               4.50\n",
       "\n",
       "[830 rows x 1 columns]"
      ]
     },
     "execution_count": 29,
     "metadata": {},
     "output_type": "execute_result"
    }
   ],
   "source": [
    "night_sleep_hours"
   ]
  },
  {
   "cell_type": "code",
   "execution_count": 34,
   "metadata": {},
   "outputs": [],
   "source": [
    "sleep = sleep.merge(night_sleep_hours, left_index=True, right_index=True, how='outer')[3:]"
   ]
  },
  {
   "cell_type": "code",
   "execution_count": 36,
   "metadata": {},
   "outputs": [],
   "source": [
    "sleep['nap_hours'] = sleep['total_sleep_hours'] - sleep['night_sleep_hours']"
   ]
  },
  {
   "cell_type": "code",
   "execution_count": 39,
   "metadata": {},
   "outputs": [],
   "source": [
    "sleep.to_csv('../data/sleep.csv')"
   ]
  }
 ],
 "metadata": {
  "kernelspec": {
   "display_name": "base",
   "language": "python",
   "name": "python3"
  },
  "language_info": {
   "codemirror_mode": {
    "name": "ipython",
    "version": 3
   },
   "file_extension": ".py",
   "mimetype": "text/x-python",
   "name": "python",
   "nbconvert_exporter": "python",
   "pygments_lexer": "ipython3",
   "version": "3.11.5"
  },
  "orig_nbformat": 4
 },
 "nbformat": 4,
 "nbformat_minor": 2
}
